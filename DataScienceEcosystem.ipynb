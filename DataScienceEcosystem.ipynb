{
 "cells": [
  {
   "cell_type": "markdown",
   "id": "511d4b70",
   "metadata": {},
   "source": [
    "# Data Science Tools and Ecosystem"
   ]
  },
  {
   "cell_type": "markdown",
   "id": "3b2187a2",
   "metadata": {},
   "source": [
    "## Author\n",
    "Mark Wesolowski"
   ]
  },
  {
   "cell_type": "markdown",
   "id": "a5e8fa17",
   "metadata": {},
   "source": [
    "This notebook will summarize Data Science Tools and Ecosystems."
   ]
  },
  {
   "cell_type": "markdown",
   "id": "0f933e23",
   "metadata": {},
   "source": [
    "**Objectives:**\n",
    "- List popular languages used in Data Science\n",
    "- List commonly used libraries in Data Science\n",
    "- List tools used in Data Science\n",
    "- Demonstrate code execution of arithmetic expressions"
   ]
  },
  {
   "cell_type": "markdown",
   "id": "7e7002b6",
   "metadata": {},
   "source": [
    "The following are some of the popular languages that Data Scientists use:\n",
    "1. Python\n",
    "2. R\n",
    "3. Java\n",
    "4. Scala\n",
    "5. C++\n",
    "6. JavaScript\n",
    "7. Julia"
   ]
  },
  {
   "cell_type": "markdown",
   "id": "3f277a90",
   "metadata": {},
   "source": [
    "The following are libraries commonly used by Data Scientists:\n",
    "1. Matplotlib \n",
    "2. Seaborn\n",
    "3. Scikit-learn \n",
    "4. Keras \n",
    "5. Vegas \n",
    "6. ggplot2 "
   ]
  },
  {
   "cell_type": "markdown",
   "id": "845535c6",
   "metadata": {},
   "source": [
    "| Data Science Tools |\n",
    "| ------------------ |\n",
    "| Jupyter Lab        | \n",
    "| RStudio            | \n",
    "| Spyder             | "
   ]
  },
  {
   "cell_type": "markdown",
   "id": "80bd1f7c",
   "metadata": {},
   "source": [
    "### Here are some examples of using Python to evaluate arithmetic expressions:"
   ]
  },
  {
   "cell_type": "code",
   "execution_count": 4,
   "id": "5b29977b",
   "metadata": {},
   "outputs": [
    {
     "data": {
      "text/plain": [
       "17"
      ]
     },
     "execution_count": 4,
     "metadata": {},
     "output_type": "execute_result"
    }
   ],
   "source": [
    "# This expression is to first multiply integers and then add integers \n",
    "(3*4)+5"
   ]
  },
  {
   "cell_type": "code",
   "execution_count": 5,
   "id": "ef1c41c3",
   "metadata": {},
   "outputs": [
    {
     "data": {
      "text/plain": [
       "3.3333333333333335"
      ]
     },
     "execution_count": 5,
     "metadata": {},
     "output_type": "execute_result"
    }
   ],
   "source": [
    "# This will convert 200 minutes into hours by dividing by 60\n",
    "200/60"
   ]
  },
  {
   "cell_type": "code",
   "execution_count": null,
   "id": "9936eab6",
   "metadata": {},
   "outputs": [],
   "source": []
  }
 ],
 "metadata": {
  "kernelspec": {
   "display_name": "Python 3 (ipykernel)",
   "language": "python",
   "name": "python3"
  },
  "language_info": {
   "codemirror_mode": {
    "name": "ipython",
    "version": 3
   },
   "file_extension": ".py",
   "mimetype": "text/x-python",
   "name": "python",
   "nbconvert_exporter": "python",
   "pygments_lexer": "ipython3",
   "version": "3.11.5"
  }
 },
 "nbformat": 4,
 "nbformat_minor": 5
}
