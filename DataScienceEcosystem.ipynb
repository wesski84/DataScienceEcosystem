{
 "cells": [
  {
   "cell_type": "markdown",
   "id": "2787caa5",
   "metadata": {},
   "source": [
    "# Data Science Tools and Ecosystem"
   ]
  },
  {
   "cell_type": "markdown",
   "id": "a29e74a3",
   "metadata": {},
   "source": [
    "## Author\n",
    "Mark Wesolowski"
   ]
  },
  {
   "cell_type": "markdown",
   "id": "20dc3d4f",
   "metadata": {},
   "source": [
    "This notebook will summarize Data Science Tools and Ecosystems."
   ]
  },
  {
   "cell_type": "markdown",
   "id": "858742e4",
   "metadata": {},
   "source": [
    "**Objectives:**\n",
    "- List popular languages used in Data Science\n",
    "- List commonly used libraries in Data Science\n",
    "- List tools used in Data Science\n",
    "- Demonstrate code execution of arithmetic expressions"
   ]
  },
  {
   "cell_type": "markdown",
   "id": "9bde5e37",
   "metadata": {},
   "source": [
    "The following are some of the popular languages that Data Scientists use:\n",
    "1. Python\n",
    "2. R\n",
    "3. Java\n",
    "4. Scala\n",
    "5. C++\n",
    "6. JavaScript\n",
    "7. Julia"
   ]
  },
  {
   "cell_type": "markdown",
   "id": "1c4966dc",
   "metadata": {},
   "source": [
    "The following are libraries commonly used by Data Scientists:\n",
    "1. Matplotlib \n",
    "2. Seaborn\n",
    "3. Scikit-learn \n",
    "4. Keras \n",
    "5. Vegas \n",
    "6. ggplot2 "
   ]
  },
  {
   "cell_type": "markdown",
   "id": "be2be484",
   "metadata": {},
   "source": [
    "| Data Science Tools |\n",
    "| ------------------ |\n",
    "| Jupyter Lab        | \n",
    "| RStudio            | \n",
    "| Spyder             | "
   ]
  },
  {
   "cell_type": "markdown",
   "id": "1cb8d4e9",
   "metadata": {},
   "source": [
    "### Here are some examples of using Python to evaluate arithmetic expressions:"
   ]
  },
  {
   "cell_type": "code",
   "execution_count": null,
   "id": "a95b4bbb",
   "metadata": {},
   "outputs": [],
   "source": [
    "# This expression is to first multiply integers and then add integers \n",
    "(3*4)+5"
   ]
  },
  {
   "cell_type": "code",
   "execution_count": null,
   "id": "cb107f76",
   "metadata": {},
   "outputs": [],
   "source": [
    "# This will convert 200 minutes into hours by dividing by 60\n",
    "200/60"
   ]
  }
 ],
 "metadata": {
  "kernelspec": {
   "display_name": "Python 3 (ipykernel)",
   "language": "python",
   "name": "python3"
  },
  "language_info": {
   "codemirror_mode": {
    "name": "ipython",
    "version": 3
   },
   "file_extension": ".py",
   "mimetype": "text/x-python",
   "name": "python",
   "nbconvert_exporter": "python",
   "pygments_lexer": "ipython3",
   "version": "3.11.5"
  }
 },
 "nbformat": 4,
 "nbformat_minor": 5
}
